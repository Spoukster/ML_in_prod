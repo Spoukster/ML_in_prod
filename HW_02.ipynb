{
 "cells": [
  {
   "cell_type": "markdown",
   "metadata": {},
   "source": [
    "### Напишите функцию, которая возвращает сумму двух вещественных аргументов a и b, а к ней декоратор, который делает так, чтобы возвращаемое значение функцией было по модулю 5."
   ]
  },
  {
   "cell_type": "code",
   "execution_count": 23,
   "metadata": {},
   "outputs": [],
   "source": [
    "def mod_(func):\n",
    "    def wrapper(*args):\n",
    "        return func(*args) % 5\n",
    "    return wrapper"
   ]
  },
  {
   "cell_type": "code",
   "execution_count": 25,
   "metadata": {},
   "outputs": [
    {
     "name": "stdout",
     "output_type": "stream",
     "text": [
      "2\n"
     ]
    }
   ],
   "source": [
    "@mod_\n",
    "def sum_(a, b):\n",
    "    return a + b\n",
    "\n",
    "sum_mod = sum_(1, 1)\n",
    "print(sum_mod)"
   ]
  },
  {
   "cell_type": "markdown",
   "metadata": {},
   "source": [
    "### Попробуйте описать своими словами основные отличия SMOTE от ADASYN, ознакомившись с документацией к ним."
   ]
  },
  {
   "cell_type": "markdown",
   "metadata": {},
   "source": [
    "SMOTE берет k ближайших соседей от рандомной точки минорного класса и на рандомном расстоянии между точкой и  соседом создает новую. ADASYN добавляет некоторые случайные значения к точкам, чтобы убрать линейную зависимость от начальной точки. Так же ADASYN генерирует количество новых точек основываясь на плотности распределения, тогда как SMOTE генерирует одинаковое количество точек для каждой начальной точки. "
   ]
  },
  {
   "cell_type": "code",
   "execution_count": null,
   "metadata": {},
   "outputs": [],
   "source": []
  }
 ],
 "metadata": {
  "kernelspec": {
   "display_name": "Python 3",
   "language": "python",
   "name": "python3"
  },
  "language_info": {
   "codemirror_mode": {
    "name": "ipython",
    "version": 3
   },
   "file_extension": ".py",
   "mimetype": "text/x-python",
   "name": "python",
   "nbconvert_exporter": "python",
   "pygments_lexer": "ipython3",
   "version": "3.7.3"
  }
 },
 "nbformat": 4,
 "nbformat_minor": 2
}
